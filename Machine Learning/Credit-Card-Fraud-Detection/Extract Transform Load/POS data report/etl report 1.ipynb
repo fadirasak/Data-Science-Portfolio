{
 "cells": [
  {
   "cell_type": "code",
   "execution_count": null,
   "metadata": {},
   "outputs": [],
   "source": [
    "# %%\n",
    "import pandas as pd\n",
    "from pymongo import MongoClient as mc\n",
    "from datetime import datetime as dt\n",
    "import win32com.client as win32\n",
    "import os\n",
    "os.chdir(r\"path\")\n",
    "print(os.getcwd())\n",
    "print(\"imported necessary libraries\")\n",
    "# %%\n",
    "client = mc(\n",
    "    \"enter mongodb address\")\n",
    "collection = client.database.collection\n",
    "print(\"connected to db\")\n",
    "# %%\n",
    "prevmonth = dt.now().month-1\n",
    "\n",
    "\n",
    "# %%\n",
    "cursor = collection.find({\"month\": prevmonth})\n",
    "print(\"created cursor\")\n",
    "\n",
    "# %%\n",
    "list = list(cursor)\n",
    "print(\"created list\")\n",
    "# %%\n",
    "df = pd.DataFrame(list)\n",
    "print(\"created dataframe\")\n",
    "# %%\n",
    "result = df.groupby(['month', 'year']).agg(\n",
    "    {'UniqTxn': 'nunique', 'UniqItems': 'count'})\n",
    "\n",
    "# %%\n",
    "result['AvgUniqBasketQty'] = int(round(result['UniqItems']/result['UniqTxn']))\n",
    "\n",
    "# %%\n",
    "\n",
    "resultnew = result.reset_index()\n",
    "\n",
    "\n",
    "# %%\n",
    "writer = pd.ExcelWriter(\n",
    "    f'{prevmonth}-{dt.now().year}.xlsx', engine='xlsxwriter')\n",
    "resultnew.to_excel(writer, sheet_name='Summary', index=False)\n",
    "writer._save()\n",
    "print(\"file created\")\n",
    "# writer.close()\n",
    "outlook = win32.Dispatch('outlook.application')\n",
    "mail = outlook.CreateItem(0)\n",
    "mail.Subject = f'Far East POS report for {prevmonth}-{dt.now().year}'\n",
    "mail.Attachments.Add(os.getcwd()+rf\"\\\\{prevmonth}-{dt.now().year}.xlsx\")\n",
    "mail.To = 'to email'\n",
    "mail.CC = 'cc email;cc email'\n",
    "\n",
    "mail.HTMLBody = rf'''<h3>Dear name,</h3>\n",
    "<br>\n",
    "PFA Far East POS data for {prevmonth}-{dt.now().year}.<br><br>\n",
    "Regards,<br>\n",
    "Fadi <br>\n",
    "Data Analyst\n",
    "'''\n",
    "mail.send\n",
    "\n",
    "print(\"file sent and successful\")\n",
    "# %%\n"
   ]
  }
 ],
 "metadata": {
  "kernelspec": {
   "display_name": "Python 3.11.0 64-bit",
   "language": "python",
   "name": "python3"
  },
  "language_info": {
   "name": "python",
   "version": "3.11.0"
  },
  "orig_nbformat": 4,
  "vscode": {
   "interpreter": {
    "hash": "5238573367df39f7286bb46f9ff5f08f63a01a80960060ce41e3c79b190280fa"
   }
  }
 },
 "nbformat": 4,
 "nbformat_minor": 2
}
