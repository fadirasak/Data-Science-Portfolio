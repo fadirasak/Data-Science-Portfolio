{
 "cells": [
  {
   "cell_type": "markdown",
   "id": "6eb1f335-e2ba-42ab-ad80-014a127cde0c",
   "metadata": {},
   "source": [
    "# CATEGORIES SCRIPT FOR DATA STUDIO MARKETING DASHBOARD"
   ]
  },
  {
   "cell_type": "markdown",
   "id": "be45a606-6a1f-40ee-bfe3-55b2672c49f8",
   "metadata": {
    "tags": []
   },
   "source": [
    "### 1. Importing necessary libraries"
   ]
  },
  {
   "cell_type": "code",
   "execution_count": 1,
   "id": "19029db7-3aa4-4294-afcc-70d642ae4b6b",
   "metadata": {},
   "outputs": [],
   "source": [
    "import pandas as pd\n",
    "import numpy as np\n",
    "from datetime import date, timedelta\n",
    "from pymongo import MongoClient\n",
    "import pandas_gbq as pgbq"
   ]
  },
  {
   "cell_type": "markdown",
   "id": "6e7e79fe-b09e-45cc-b617-575bddae446c",
   "metadata": {
    "tags": []
   },
   "source": [
    "### 2. Creating date parameters for dynamic data filtering from DB"
   ]
  },
  {
   "cell_type": "code",
   "execution_count": 2,
   "id": "943ec62d-8c2d-4826-bb58-971d34b36eba",
   "metadata": {},
   "outputs": [],
   "source": [
    "threeMonths = str(date.today() - timedelta(days= np.floor(365/2)/2))"
   ]
  },
  {
   "cell_type": "markdown",
   "id": "b70e5e27-79e7-4fb3-adf2-93897da4bdd7",
   "metadata": {
    "tags": []
   },
   "source": [
    "### 3. Connecting to DB and extracting order and category data "
   ]
  },
  {
   "cell_type": "markdown",
   "id": "fd9027f0-0a78-49ad-a434-c606ec0e4889",
   "metadata": {},
   "source": [
    "- Connection to Mongo client and extraction"
   ]
  },
  {
   "cell_type": "code",
   "execution_count": 3,
   "id": "03e88f7d-9ccc-412b-828b-73eed3ffbeb1",
   "metadata": {},
   "outputs": [
    {
     "name": "stdout",
     "output_type": "stream",
     "text": [
      "<pymongo.command_cursor.CommandCursor object at 0x000002319974DAB0>\n"
     ]
    }
   ],
   "source": [
    "# Connecting to mongodb client\n",
    "client = MongoClient(\"mongodb://12.3.45.678:27017/?readPreference=primary&directConnection=true&ssl=false\")\n",
    "# Choosing collection from DB for aggregation\n",
    "ordersColl= client.dotComOrders.dailyOrders\n",
    "# Category aggregation for three months\n",
    "categories = ordersColl.aggregate([\n",
    "    {\n",
    "        '$match': {\n",
    "            'site': {\n",
    "                '$in': [\n",
    "                    'site1', 'site2' # Matching only UAE & Oman data\n",
    "                ]\n",
    "            }, \n",
    "            'created': {\n",
    "                '$gt': threeMonths # Matching of data from last 3 months\n",
    "            }\n",
    "        }\n",
    "    }, {\n",
    "        '$unwind': {\n",
    "            'path': '$consignments', \n",
    "            'preserveNullAndEmptyArrays': True\n",
    "        }\n",
    "    }, {\n",
    "        '$unwind': {\n",
    "            'path': '$consignments.entries', \n",
    "            'preserveNullAndEmptyArrays': True\n",
    "        }\n",
    "    }, {\n",
    "        '$group': {\n",
    "            '_id': {\n",
    "                'code': '$code', \n",
    "                'productType': '$consignments.entries.orderEntry.product.erpCategory' # Grouping by order code & product type\n",
    "            }, \n",
    "            'date': {\n",
    "                '$first': {\n",
    "                    '$toDate': '$created'\n",
    "                }\n",
    "            }, \n",
    "            'site': {\n",
    "                '$first': '$site'\n",
    "            }, \n",
    "            'orders': {\n",
    "                '$sum': 1\n",
    "            }, \n",
    "            'quantity': {\n",
    "                '$first': '$consignments.entries.orderEntry.quantity'\n",
    "            }, \n",
    "            'value': {\n",
    "                '$first': '$consignments.entries.orderEntry.totalPrice.value'\n",
    "            }\n",
    "        }\n",
    "    }, {\n",
    "        '$lookup': {\n",
    "            'from': 'articles', \n",
    "            'localField': '_id.productType', \n",
    "            'foreignField': 'mat group', \n",
    "            'as': 'articles' # Joining with articles collection for product type description\n",
    "        }\n",
    "    }, {\n",
    "        '$project': {\n",
    "            '_id': 0, \n",
    "            'date': 1, \n",
    "            'site': 1, \n",
    "            'productType': {\n",
    "                '$first': '$articles.Product type'\n",
    "            }, \n",
    "            'orders': 1, \n",
    "            'quantity': 1, \n",
    "            'value': 1\n",
    "        }\n",
    "    }\n",
    "],allowDiskUse = True)\n",
    "# Printing cursor\n",
    "print(categories)"
   ]
  },
  {
   "cell_type": "markdown",
   "id": "044abe55-0bcb-4413-8c94-62ca7e37d006",
   "metadata": {},
   "source": [
    "- Convertion of cursor to dataframe"
   ]
  },
  {
   "cell_type": "code",
   "execution_count": 4,
   "id": "3a4a9658-6825-4755-a759-16656b4ecfce",
   "metadata": {},
   "outputs": [],
   "source": [
    "categoriesList = list(categories) # Conversion of cursor to list\n",
    "categoriesDf = pd.DataFrame(categoriesList) # Conversion of list to dataframe"
   ]
  },
  {
   "cell_type": "markdown",
   "id": "86333f69-86ea-4549-b2f7-003992e91f2e",
   "metadata": {},
   "source": [
    "- Casting data types for efficient memory usage"
   ]
  },
  {
   "cell_type": "code",
   "execution_count": 5,
   "id": "7a43ea3f-4541-4a79-8cf1-1e47ffd4430d",
   "metadata": {},
   "outputs": [],
   "source": [
    "categoriesDf[\"site\"],categoriesDf[\"orders\"],categoriesDf[\"quantity\"],categoriesDf[\"value\"],categoriesDf[\"productType\"] = categoriesDf[\"site\"].astype(\"category\"),categoriesDf[\"orders\"].astype(\"int8\"),categoriesDf[\"quantity\"].astype(\"float32\"),categoriesDf[\"value\"].astype(\"float32\"),categoriesDf[\"productType\"].astype(\"category\")"
   ]
  },
  {
   "cell_type": "markdown",
   "id": "4efd21f1-5493-4202-81bd-c57305b17ce6",
   "metadata": {},
   "source": [
    "### 4. Exporting dataframe to bigquery"
   ]
  },
  {
   "cell_type": "code",
   "execution_count": 6,
   "id": "43273c87-1f97-4424-b152-ea19b6031106",
   "metadata": {},
   "outputs": [],
   "source": [
    "categoriesDf.to_gbq(destination_table=\"ordersdata.dailycategory\", project_id=\"orderdash\", if_exists=\"replace\")"
   ]
  },
  {
   "cell_type": "markdown",
   "id": "d7468c58-e76b-43f7-8ad3-44759b2a037d",
   "metadata": {},
   "source": [
    "### 5. Closing client"
   ]
  },
  {
   "cell_type": "code",
   "execution_count": 7,
   "id": "991bff95-8a79-4e7b-a469-af8e2eecdb32",
   "metadata": {},
   "outputs": [],
   "source": [
    "client.close()"
   ]
  }
 ],
 "metadata": {
  "kernelspec": {
   "display_name": "Python 3.11.0 64-bit",
   "language": "python",
   "name": "python3"
  },
  "language_info": {
   "codemirror_mode": {
    "name": "ipython",
    "version": 3
   },
   "file_extension": ".py",
   "mimetype": "text/x-python",
   "name": "python",
   "nbconvert_exporter": "python",
   "pygments_lexer": "ipython3",
   "version": "3.11.0"
  },
  "vscode": {
   "interpreter": {
    "hash": "5238573367df39f7286bb46f9ff5f08f63a01a80960060ce41e3c79b190280fa"
   }
  }
 },
 "nbformat": 4,
 "nbformat_minor": 5
}
